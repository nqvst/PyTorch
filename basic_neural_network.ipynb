{
  "nbformat": 4,
  "nbformat_minor": 0,
  "metadata": {
    "colab": {
      "provenance": [],
      "authorship_tag": "ABX9TyNjInhaKSBKBZwdBH1l+IAm",
      "include_colab_link": true
    },
    "kernelspec": {
      "name": "python3",
      "display_name": "Python 3"
    },
    "language_info": {
      "name": "python"
    }
  },
  "cells": [
    {
      "cell_type": "markdown",
      "metadata": {
        "id": "view-in-github",
        "colab_type": "text"
      },
      "source": [
        "<a href=\"https://colab.research.google.com/github/nqvst/PyTorch/blob/main/basic_neural_network.ipynb\" target=\"_parent\"><img src=\"https://colab.research.google.com/assets/colab-badge.svg\" alt=\"Open In Colab\"/></a>"
      ]
    },
    {
      "cell_type": "markdown",
      "source": [
        "\n",
        "# basic implementation from this article\n",
        "https://towardsdatascience.com/math-neural-network-from-scratch-in-python-d6da9f29ce65\n"
      ],
      "metadata": {
        "id": "kXWCvnIFqKHg"
      }
    },
    {
      "cell_type": "code",
      "source": [
        "import numpy as np\n",
        "import matplotlib.pyplot as plt"
      ],
      "metadata": {
        "id": "D_ckjb5Jg2f9"
      },
      "execution_count": null,
      "outputs": []
    },
    {
      "cell_type": "code",
      "execution_count": null,
      "metadata": {
        "id": "h2pxKwh3am6s"
      },
      "outputs": [],
      "source": [
        "# Activation function tanh and derivative\n",
        "def tanh(x):\n",
        "    return np.tanh(x);\n",
        "\n",
        "def tanh_prime(x):\n",
        "    return 1-np.tanh(x)**2;\n",
        "\n",
        "\n",
        "# Loss function mse Mean Squared Error\n",
        "def mse(y_true, y_pred):\n",
        "    return np.mean(np.power(y_true - y_pred, 2))\n",
        "\n",
        "def mse_prime(y_true, y_pred):\n",
        "    return 2 * (y_pred - y_true)/y_true.size\n"
      ]
    },
    {
      "cell_type": "code",
      "source": [
        "class Layer:\n",
        "    def __init__(self):\n",
        "        self.input = None\n",
        "        self.output = None\n",
        "\n",
        "    def forward_propagation(self, input):\n",
        "        raise NotImplementedError\n",
        "\n",
        "    def backward_propagation(self, output_error, learning_rate):\n",
        "        NotImplementedError\n"
      ],
      "metadata": {
        "id": "u0UClu0AWH7F"
      },
      "execution_count": null,
      "outputs": []
    },
    {
      "cell_type": "code",
      "source": [
        "class FCLayer(Layer):\n",
        "    def __init__(self, input_size, output_size):\n",
        "        self.weights = np.random.rand(input_size, output_size) - 0.5\n",
        "        self.bias = np.random.rand(1, output_size) - 0.5\n",
        "\n",
        "    def forward_propagation(self, input):\n",
        "        self.input = input\n",
        "        self.output = np.dot(self.input, self.weights) + self.bias\n",
        "        return self.output\n",
        "\n",
        "    def backward_propagation(self, output_error, learning_rate):\n",
        "        input_error = np.dot(output_error, self.weights.T)\n",
        "        weights_error = np.dot(self.input.T, output_error)\n",
        "\n",
        "        self.weights -= learning_rate * weights_error\n",
        "        self.bias -= learning_rate * output_error\n",
        "        return input_error"
      ],
      "metadata": {
        "id": "QuD8LNl9WlxL"
      },
      "execution_count": null,
      "outputs": []
    },
    {
      "cell_type": "code",
      "source": [
        "class ActivationLayer(Layer):\n",
        "    def __init__(self, activation, activation_prime):\n",
        "        self.activation = activation\n",
        "        self.activation_prime = activation_prime\n",
        "\n",
        "    def forward_propagation(self, input):\n",
        "        self.input = input\n",
        "        self.output = self.activation(self.input)\n",
        "        return self.output\n",
        "\n",
        "    def backward_propagation(self, output_error, learning_rate):\n",
        "        return self.activation_prime(self.input) * output_error"
      ],
      "metadata": {
        "id": "vqnBx5PibER_"
      },
      "execution_count": null,
      "outputs": []
    },
    {
      "cell_type": "code",
      "source": [
        "class Network:\n",
        "    def __init__(self):\n",
        "        self.layers = []\n",
        "        self.loss = None\n",
        "        self.loss_prime = None\n",
        "\n",
        "    def add(self, layer):\n",
        "        self.layers.append(layer)\n",
        "\n",
        "    def use(self, loss, loss_prime):\n",
        "        self.loss = loss\n",
        "        self.loss_prime = loss_prime\n",
        "\n",
        "    def predict(self, input_data):\n",
        "        n_samples = len(input_data)\n",
        "        result = []\n",
        "\n",
        "        for i in range(n_samples):\n",
        "            output = input_data[i]\n",
        "            for layer in self.layers:\n",
        "                output = layer.forward_propagation(output)\n",
        "            result.append(output)\n",
        "        return result\n",
        "\n",
        "    def fit(self, x_train, y_train, epochs, lr):\n",
        "\n",
        "        n_samples = len(x_train)\n",
        "\n",
        "        for i in range(epochs):\n",
        "            err = 0\n",
        "            for j in range(n_samples):\n",
        "                output = x_train[j]\n",
        "                # feed the input data through the layers one after another.\n",
        "                # replacing the initial input with the output from the previous\n",
        "                # layer for each layer\n",
        "                for layer in self.layers:\n",
        "                    output = layer.forward_propagation(output)\n",
        "\n",
        "                err += self.loss(y_train[j], output) # for displaying under training\n",
        "\n",
        "                error = self.loss_prime(y_train[j], output)\n",
        "                for layer in reversed(self.layers):\n",
        "                    error = layer.backward_propagation(error, lr)\n",
        "\n",
        "            err /= n_samples\n",
        "            print(f\"epoch {i + 1}/{epochs} error={err}\")"
      ],
      "metadata": {
        "id": "wZ6B_z-HZfqR"
      },
      "execution_count": null,
      "outputs": []
    },
    {
      "cell_type": "code",
      "source": [
        "from keras.datasets import mnist\n",
        "from keras.utils import np_utils\n",
        "\n",
        "(x_train, y_train), (x_test, y_test) = mnist.load_data()\n",
        "\n",
        "def reshape(dataset_x, dataset_y):\n",
        "    # reshape\n",
        "    dataset_x = dataset_x.reshape(dataset_x.shape[0], 1, 28 * 28)\n",
        "    dataset_x = dataset_x.astype('float32')\n",
        "    dataset_x /= 255 # values between 0 and 1\n",
        "    dataset_y = np_utils.to_categorical(dataset_y)\n",
        "    return dataset_x, dataset_y\n",
        "# reshape\n",
        "x_images_test = x_test\n",
        "(x_train, y_train) = reshape(x_train, y_train)\n",
        "(x_test, y_test) = reshape(x_test, y_test)\n",
        "\n"
      ],
      "metadata": {
        "id": "W33WWHoxZi79"
      },
      "execution_count": null,
      "outputs": []
    },
    {
      "cell_type": "code",
      "source": [
        "nn = Network()\n",
        "nn.add(FCLayer(28*28, 100))\n",
        "nn.add(ActivationLayer(tanh, tanh_prime))\n",
        "nn.add(FCLayer(100, 50))\n",
        "nn.add(ActivationLayer(tanh, tanh_prime))\n",
        "nn.add(FCLayer(50, 10))\n",
        "nn.add(ActivationLayer(tanh, tanh_prime))\n",
        "\n",
        "nn.use(mse, mse_prime)\n",
        "nn.fit(x_train[0:1000], y_train[0:1000], epochs=50, lr=0.01)\n"
      ],
      "metadata": {
        "colab": {
          "base_uri": "https://localhost:8080/"
        },
        "id": "lVONlX2Of4tV",
        "outputId": "7c5b10d0-5de6-483c-861e-720ae53bd323"
      },
      "execution_count": null,
      "outputs": [
        {
          "output_type": "stream",
          "name": "stdout",
          "text": [
            "epoch 1/50 error=0.4934948229902646\n",
            "epoch 2/50 error=0.3068133603080869\n",
            "epoch 3/50 error=0.20691665383231078\n",
            "epoch 4/50 error=0.14617545438996116\n",
            "epoch 5/50 error=0.11200275048542709\n",
            "epoch 6/50 error=0.09292209283747373\n",
            "epoch 7/50 error=0.08168494791955641\n",
            "epoch 8/50 error=0.07453209140008246\n",
            "epoch 9/50 error=0.0696068429743142\n",
            "epoch 10/50 error=0.06596804410651483\n",
            "epoch 11/50 error=0.06312465262204002\n",
            "epoch 12/50 error=0.06079860231615209\n",
            "epoch 13/50 error=0.05880794635005631\n",
            "epoch 14/50 error=0.05704436566201241\n",
            "epoch 15/50 error=0.055451474303118954\n",
            "epoch 16/50 error=0.05399899288709789\n",
            "epoch 17/50 error=0.05265960012638815\n",
            "epoch 18/50 error=0.05141237403591709\n",
            "epoch 19/50 error=0.05024362397251979\n",
            "epoch 20/50 error=0.04914351568727314\n",
            "epoch 21/50 error=0.04810434746602821\n",
            "epoch 22/50 error=0.0471193386669496\n",
            "epoch 23/50 error=0.04618196760692618\n",
            "epoch 24/50 error=0.04528629606472396\n",
            "epoch 25/50 error=0.0444274903162465\n",
            "epoch 26/50 error=0.04360188572473008\n",
            "epoch 27/50 error=0.04280681163536901\n",
            "epoch 28/50 error=0.04204046410156147\n",
            "epoch 29/50 error=0.04130168399828519\n",
            "epoch 30/50 error=0.04058946574486327\n",
            "epoch 31/50 error=0.039902498582409865\n",
            "epoch 32/50 error=0.03923910039603789\n",
            "epoch 33/50 error=0.03859742816951959\n",
            "epoch 34/50 error=0.0379756826760663\n",
            "epoch 35/50 error=0.037372210340238514\n",
            "epoch 36/50 error=0.03678553084029954\n",
            "epoch 37/50 error=0.03621433000192303\n",
            "epoch 38/50 error=0.035657441368231936\n",
            "epoch 39/50 error=0.03511382804502847\n",
            "epoch 40/50 error=0.03458256846347054\n",
            "epoch 41/50 error=0.034062844622993915\n",
            "epoch 42/50 error=0.03355393043137187\n",
            "epoch 43/50 error=0.03305518020474283\n",
            "epoch 44/50 error=0.03256602033983122\n",
            "epoch 45/50 error=0.03208594821515558\n",
            "epoch 46/50 error=0.03161454094604912\n",
            "epoch 47/50 error=0.031151473281729535\n",
            "epoch 48/50 error=0.030696539612255228\n",
            "epoch 49/50 error=0.030249670968640393\n",
            "epoch 50/50 error=0.02981093537627768\n"
          ]
        }
      ]
    },
    {
      "cell_type": "code",
      "source": [
        "idx = 693\n",
        "out = nn.predict(x_test[idx])\n",
        "print(f\"predicted: {np.argmax(out) + 1} \\n actual: {np.argmax(y_test[idx]) + 1}\")"
      ],
      "metadata": {
        "colab": {
          "base_uri": "https://localhost:8080/"
        },
        "id": "OZjE-EjZgpRG",
        "outputId": "9d72127e-7709-442b-bf95-67e651235253"
      },
      "execution_count": null,
      "outputs": [
        {
          "output_type": "stream",
          "name": "stdout",
          "text": [
            "predicted: 9 \n",
            " actual: 9\n"
          ]
        }
      ]
    },
    {
      "cell_type": "code",
      "source": [
        "preds = nn.predict(x_test[:100])\n",
        "validation_error = mse(y_test[:100], preds)"
      ],
      "metadata": {
        "id": "h_G6ndlDkMqx"
      },
      "execution_count": null,
      "outputs": []
    },
    {
      "cell_type": "code",
      "source": [],
      "metadata": {
        "id": "018DoAabo-wd"
      },
      "execution_count": null,
      "outputs": []
    },
    {
      "cell_type": "code",
      "source": [
        "fig, axs = plt.subplots(3, 3, figsize=(8, 8))\n",
        "axs = axs.flatten()\n",
        "offset = 10\n",
        "for i in range(0, 9):\n",
        "    offset_id = i + offset\n",
        "    image = x_images_test[offset_id]\n",
        "    p_label = np.argmax(preds[offset_id])\n",
        "    a_label = np.argmax(y_test[offset_id])\n",
        "    axs[i].imshow(image, cmap='gray')\n",
        "    axs[i].set_title(f\"pred: {p_label} actual: {a_label}\")\n",
        "    axs[i].axis('off')\n",
        "    plt.imshow(image)\n",
        "\n",
        "plt.tight_layout()\n",
        "plt.show()"
      ],
      "metadata": {
        "id": "4ogqvVbSqE-h",
        "colab": {
          "base_uri": "https://localhost:8080/",
          "height": 807
        },
        "outputId": "f3198677-d0b8-44a4-9c92-ba6978abd2e3"
      },
      "execution_count": null,
      "outputs": [
        {
          "output_type": "display_data",
          "data": {
            "text/plain": [
              "<Figure size 800x800 with 9 Axes>"
            ],
            "image/png": "[encoded data removed]"
          },
          "metadata": {}
        }
      ]
    },
    {
      "cell_type": "code",
      "source": [],
      "metadata": {
        "id": "pPgeD4_toI8w"
      },
      "execution_count": null,
      "outputs": []
    }
  ]
}